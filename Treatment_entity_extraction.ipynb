{
 "cells": [
  {
   "cell_type": "code",
   "execution_count": 33,
   "metadata": {},
   "outputs": [],
   "source": [
    "import re\n",
    "def clean(str):\n",
    "    p = re.compile('[\\(|,|.]')\n",
    "    s = p.sub('', str)\n",
    "    return s"
   ]
  },
  {
   "cell_type": "code",
   "execution_count": 43,
   "metadata": {},
   "outputs": [],
   "source": [
    "# TODO: clean the punc like '(',','.' ... return a set on element in one trial (count?)\n",
    "\n",
    "treatments = []\n",
    "one_trial = []\n",
    "intext = False\n",
    "with open('data/treatment_description_only.txt_tagged') as file:\n",
    "    for line in file:\n",
    "        l = line.split()\n",
    "        if l == []:\n",
    "            treatments.append(list(set(one_trial))) # remove duplicate elements\n",
    "            one_trial = []\n",
    "        elif len(l)<3:\n",
    "            pass\n",
    "        else:\n",
    "#             print(l)\n",
    "            tag = l[2]\n",
    "            if tag=='B-treatment':\n",
    "                if intext:\n",
    "                    one_trial.append(clean(intext))\n",
    "                    intext = False\n",
    "                intext = l[0]\n",
    "            elif tag=='I-treatment':\n",
    "                intext = intext + ' ' + l[0]\n",
    "        "
   ]
  },
  {
   "cell_type": "code",
   "execution_count": 44,
   "metadata": {},
   "outputs": [
    {
     "data": {
      "text/plain": [
       "[['MOH/IUI treatment'],\n",
       " ['intravenous fluids measurement',\n",
       "  'Fluid resuscitation',\n",
       "  'microvascular perfusion',\n",
       "  'IUI Treatment',\n",
       "  'crystalloid fluid',\n",
       "  'impaired microvascular perfusion',\n",
       "  'initial resuscitation',\n",
       "  'terlipressin therapy',\n",
       "  'subsequent intra-vascular volume replacement',\n",
       "  'resuscitation'],\n",
       " ['adequate fluid resuscitation']]"
      ]
     },
     "execution_count": 44,
     "metadata": {},
     "output_type": "execute_result"
    }
   ],
   "source": [
    "treatments"
   ]
  },
  {
   "cell_type": "code",
   "execution_count": 35,
   "metadata": {},
   "outputs": [
    {
     "data": {
      "text/plain": [
       "'MOH/IUI treatment'"
      ]
     },
     "execution_count": 35,
     "metadata": {},
     "output_type": "execute_result"
    }
   ],
   "source": [
    "clean('(MOH/IUI treatment')"
   ]
  },
  {
   "cell_type": "code",
   "execution_count": null,
   "metadata": {},
   "outputs": [],
   "source": []
  }
 ],
 "metadata": {
  "kernelspec": {
   "display_name": "Python 3",
   "language": "python",
   "name": "python3"
  },
  "language_info": {
   "codemirror_mode": {
    "name": "ipython",
    "version": 3
   },
   "file_extension": ".py",
   "mimetype": "text/x-python",
   "name": "python",
   "nbconvert_exporter": "python",
   "pygments_lexer": "ipython3",
   "version": "3.7.7"
  }
 },
 "nbformat": 4,
 "nbformat_minor": 4
}
